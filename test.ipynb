{
 "cells": [
  {
   "cell_type": "code",
   "id": "initial_id",
   "metadata": {
    "collapsed": true,
    "ExecuteTime": {
     "end_time": "2024-08-17T02:02:23.975280Z",
     "start_time": "2024-08-17T02:02:23.970596Z"
    }
   },
   "source": [
    "dir = \"\"\n",
    "if dir:\n",
    "    print(\"Yes\")\n",
    "else:\n",
    "    print(\"No\")"
   ],
   "outputs": [
    {
     "name": "stdout",
     "output_type": "stream",
     "text": [
      "No\n"
     ]
    }
   ],
   "execution_count": 5
  },
  {
   "metadata": {
    "ExecuteTime": {
     "end_time": "2024-08-17T05:48:24.208057Z",
     "start_time": "2024-08-17T05:48:24.199511Z"
    }
   },
   "cell_type": "code",
   "source": "(64, 64) + (3, )",
   "id": "f7b38fb3b7d31410",
   "outputs": [
    {
     "data": {
      "text/plain": [
       "(64, 64, 3)"
      ]
     },
     "execution_count": 6,
     "metadata": {},
     "output_type": "execute_result"
    }
   ],
   "execution_count": 6
  },
  {
   "metadata": {
    "ExecuteTime": {
     "end_time": "2024-08-17T06:47:10.058118Z",
     "start_time": "2024-08-17T06:47:10.035027Z"
    }
   },
   "cell_type": "code",
   "source": [
    "import numpy as np\n",
    "import torch\n",
    "from torch import tensor\n",
    "from torch import distributions as torchd"
   ],
   "id": "6eedabb5ffed4651",
   "outputs": [],
   "execution_count": 14
  },
  {
   "metadata": {
    "ExecuteTime": {
     "end_time": "2024-08-17T06:47:12.922843Z",
     "start_time": "2024-08-17T06:47:12.913181Z"
    }
   },
   "cell_type": "code",
   "source": [
    "n_a = np.array([1, 2, 3])\n",
    "torch.Tensor(n_a)[None]"
   ],
   "id": "9368eb0eb2548de7",
   "outputs": [
    {
     "data": {
      "text/plain": [
       "tensor([[1., 2., 3.]])"
      ]
     },
     "execution_count": 15,
     "metadata": {},
     "output_type": "execute_result"
    }
   ],
   "execution_count": 15
  },
  {
   "metadata": {
    "ExecuteTime": {
     "end_time": "2024-08-17T06:59:53.100665Z",
     "start_time": "2024-08-17T06:59:53.094390Z"
    }
   },
   "cell_type": "code",
   "source": [
    "uni = torchd.uniform.Uniform(torch.Tensor(-1 * np.ones(6))[None],\n",
    "                                       torch.Tensor(np.ones(6))[None])"
   ],
   "id": "7dfcde182deb9dc6",
   "outputs": [],
   "execution_count": 25
  },
  {
   "metadata": {
    "ExecuteTime": {
     "end_time": "2024-08-17T06:59:57.376951Z",
     "start_time": "2024-08-17T06:59:57.370305Z"
    }
   },
   "cell_type": "code",
   "source": "uni.batch_shape",
   "id": "4cb712a9d72702be",
   "outputs": [
    {
     "data": {
      "text/plain": [
       "torch.Size([1, 6])"
      ]
     },
     "execution_count": 26,
     "metadata": {},
     "output_type": "execute_result"
    }
   ],
   "execution_count": 26
  },
  {
   "metadata": {
    "ExecuteTime": {
     "end_time": "2024-08-17T07:00:01.407396Z",
     "start_time": "2024-08-17T07:00:01.404952Z"
    }
   },
   "cell_type": "code",
   "source": "uni.event_shape",
   "id": "a5442c14ce7be95d",
   "outputs": [
    {
     "data": {
      "text/plain": [
       "torch.Size([])"
      ]
     },
     "execution_count": 27,
     "metadata": {},
     "output_type": "execute_result"
    }
   ],
   "execution_count": 27
  },
  {
   "metadata": {
    "ExecuteTime": {
     "end_time": "2024-08-17T07:02:28.320232Z",
     "start_time": "2024-08-17T07:02:28.313637Z"
    }
   },
   "cell_type": "code",
   "source": "uni.sample((6,))",
   "id": "b335cba5b4c7f326",
   "outputs": [
    {
     "data": {
      "text/plain": [
       "tensor([[[ 0.7373, -0.7712, -0.8968,  0.5194,  0.5553,  0.1233]],\n",
       "\n",
       "        [[ 0.4967,  0.1407,  0.7963, -0.9938,  0.0392,  0.9445]],\n",
       "\n",
       "        [[-0.1944,  0.2913,  0.7074,  0.1775,  0.3793,  0.1960]],\n",
       "\n",
       "        [[-0.9051,  0.4778,  0.9034,  0.2110, -0.7862, -0.8198]],\n",
       "\n",
       "        [[-0.1389,  0.9077,  0.8655, -0.2884,  0.1689, -0.8523]],\n",
       "\n",
       "        [[-0.4035,  0.3181,  0.1107,  0.1982, -0.7705, -0.2369]]])"
      ]
     },
     "execution_count": 34,
     "metadata": {},
     "output_type": "execute_result"
    }
   ],
   "execution_count": 34
  },
  {
   "metadata": {
    "ExecuteTime": {
     "end_time": "2024-08-17T07:06:10.853609Z",
     "start_time": "2024-08-17T07:06:10.842848Z"
    }
   },
   "cell_type": "code",
   "source": "uni.sample()",
   "id": "79d89a51125320ec",
   "outputs": [
    {
     "data": {
      "text/plain": [
       "tensor([[ 0.5236,  0.7819, -0.2384, -0.3169, -0.9690, -0.1320]])"
      ]
     },
     "execution_count": 35,
     "metadata": {},
     "output_type": "execute_result"
    }
   ],
   "execution_count": 35
  },
  {
   "metadata": {},
   "cell_type": "code",
   "outputs": [],
   "execution_count": null,
   "source": "",
   "id": "25d815e097419e4b"
  }
 ],
 "metadata": {
  "kernelspec": {
   "display_name": "Python 3",
   "language": "python",
   "name": "python3"
  },
  "language_info": {
   "codemirror_mode": {
    "name": "ipython",
    "version": 2
   },
   "file_extension": ".py",
   "mimetype": "text/x-python",
   "name": "python",
   "nbconvert_exporter": "python",
   "pygments_lexer": "ipython2",
   "version": "2.7.6"
  }
 },
 "nbformat": 4,
 "nbformat_minor": 5
}
